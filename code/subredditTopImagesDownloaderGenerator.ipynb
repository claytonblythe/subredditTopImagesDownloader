{
 "cells": [
  {
   "cell_type": "code",
   "execution_count": 10,
   "metadata": {
    "collapsed": true
   },
   "outputs": [],
   "source": [
    "from bs4 import BeautifulSoup as bs\n",
    "import requests\n",
    "from tqdm import tqdm\n",
    "import os\n",
    "import argparse\n",
    "# Get a copy of the default headers that requests would use\n",
    "headers = {'User-Agent': 'Mozilla/5.0 (Macintosh; Intel Mac OS X 10_10_1) AppleWebKit/537.36 (KHTML, like Gecko) Chrome/39.0.2171.95 Safari/537.36'}"
   ]
  },
  {
   "cell_type": "code",
   "execution_count": 11,
   "metadata": {
    "collapsed": true
   },
   "outputs": [
    {
     "name": "stderr",
     "output_type": "stream",
     "text": [
      "usage: __main__.py [-h] -s SUBREDDIT -n NUMPAGES -t TIMEFRAME\n",
      "__main__.py: error: the following arguments are required: -s/--subreddit, -n/--numPages, -t/--timeFrame\n"
     ]
    },
    {
     "ename": "SystemExit",
     "evalue": "2",
     "output_type": "error",
     "traceback": [
      "An exception has occurred, use %tb to see the full traceback.\n",
      "\u001b[0;31mSystemExit\u001b[0m\u001b[0;31m:\u001b[0m 2\n"
     ]
    },
    {
     "name": "stderr",
     "output_type": "stream",
     "text": [
      "/Users/claytonblythe/anaconda3/lib/python3.6/site-packages/IPython/core/interactiveshell.py:2889: UserWarning: To exit: use 'exit', 'quit', or Ctrl-D.\n",
      "  warn(\"To exit: use 'exit', 'quit', or Ctrl-D.\", stacklevel=1)\n"
     ]
    }
   ],
   "source": [
    "def get_args():\n",
    "    '''This function parses and return arguments passed in'''\n",
    "    # Assign description to the help doc\n",
    "    parser = argparse.ArgumentParser(\n",
    "        description='Script saves images from subreddit')\n",
    "    # Add arguments\n",
    "    parser.add_argument(\n",
    "        '-s', '--subreddit', type=str, help='Subreddit name', default='EarthPorn')\n",
    "    parser.add_argument(\n",
    "        '-n', '--numPages', type=int, help='Number of pages to save from', default=1)\n",
    "    parser.add_argument(\n",
    "        '-t', '--timeFrame', type=str, help='Time frame to save from', default='all')\n",
    "    # Array for all arguments passed to script\n",
    "    args = parser.parse_args()\n",
    "    # Assign args to variables\n",
    "    subreddit = args.subreddit\n",
    "    numPages = args.numPages\n",
    "    timeFrame = args.timeFrame\n",
    "    # Return all variable values\n",
    "    return subreddit, numPages, timeFrame\n",
    "\n",
    "# Run get_args()\n",
    "# get_args()\n",
    "\n",
    "# Match return values from get_arguments()\n",
    "# and assign to their respective variables\n",
    "subreddit, numPages, timeFrame = get_args()"
   ]
  },
  {
   "cell_type": "code",
   "execution_count": 12,
   "metadata": {
    "collapsed": false
   },
   "outputs": [
    {
     "ename": "NameError",
     "evalue": "name 'timeFrame' is not defined",
     "output_type": "error",
     "traceback": [
      "\u001b[0;31m---------------------------------------------------------------------------\u001b[0m",
      "\u001b[0;31mNameError\u001b[0m                                 Traceback (most recent call last)",
      "\u001b[0;32m<ipython-input-12-75e4ae9b120b>\u001b[0m in \u001b[0;36m<module>\u001b[0;34m()\u001b[0m\n\u001b[0;32m----> 1\u001b[0;31m \u001b[0murl\u001b[0m \u001b[0;34m=\u001b[0m \u001b[0;34m\"https://www.reddit.com/r/\"\u001b[0m\u001b[0;34m+\u001b[0m \u001b[0msubreddit\u001b[0m \u001b[0;34m+\u001b[0m \u001b[0;34m\"/top/?sort=top&t=\"\u001b[0m \u001b[0;34m+\u001b[0m \u001b[0mtimeFrame\u001b[0m\u001b[0;34m\u001b[0m\u001b[0m\n\u001b[0m\u001b[1;32m      2\u001b[0m \u001b[0ms\u001b[0m \u001b[0;34m=\u001b[0m \u001b[0mrequests\u001b[0m\u001b[0;34m.\u001b[0m\u001b[0msession\u001b[0m\u001b[0;34m(\u001b[0m\u001b[0;34m)\u001b[0m\u001b[0;34m\u001b[0m\u001b[0m\n\u001b[1;32m      3\u001b[0m \u001b[0mr\u001b[0m \u001b[0;34m=\u001b[0m \u001b[0ms\u001b[0m\u001b[0;34m.\u001b[0m\u001b[0mget\u001b[0m\u001b[0;34m(\u001b[0m\u001b[0murl\u001b[0m\u001b[0;34m,\u001b[0m \u001b[0mheaders\u001b[0m \u001b[0;34m=\u001b[0m \u001b[0mheaders\u001b[0m\u001b[0;34m)\u001b[0m\u001b[0;34m\u001b[0m\u001b[0m\n\u001b[1;32m      4\u001b[0m \u001b[0msoup\u001b[0m \u001b[0;34m=\u001b[0m \u001b[0mbs\u001b[0m\u001b[0;34m(\u001b[0m\u001b[0mr\u001b[0m\u001b[0;34m.\u001b[0m\u001b[0mtext\u001b[0m\u001b[0;34m,\u001b[0m \u001b[0;34m'lxml'\u001b[0m\u001b[0;34m)\u001b[0m\u001b[0;34m\u001b[0m\u001b[0m\n\u001b[1;32m      5\u001b[0m \u001b[0mextensions\u001b[0m \u001b[0;34m=\u001b[0m \u001b[0;34m[\u001b[0m\u001b[0;34m'png'\u001b[0m\u001b[0;34m,\u001b[0m \u001b[0;34m'jpg'\u001b[0m\u001b[0;34m,\u001b[0m \u001b[0;34m'jpeg'\u001b[0m\u001b[0;34m,\u001b[0m\u001b[0;34m'ifv2'\u001b[0m\u001b[0;34m]\u001b[0m\u001b[0;34m\u001b[0m\u001b[0m\n",
      "\u001b[0;31mNameError\u001b[0m: name 'timeFrame' is not defined"
     ]
    }
   ],
   "source": [
    "url = \"https://www.reddit.com/r/{}/top/?sort=top&t={}\".format(subreddit,timeFrame)\n",
    "s = requests.session()\n",
    "r = s.get(url, headers = headers)\n",
    "soup = bs(r.text, 'lxml')\n",
    "extensions = ['png', 'jpg', 'jpeg','ifv2']"
   ]
  },
  {
   "cell_type": "code",
   "execution_count": 8,
   "metadata": {
    "collapsed": false
   },
   "outputs": [],
   "source": [
    "class subredditTopPostsGenerator:\n",
    "    def __init__(self, url):\n",
    "        self.urls = []\n",
    "        self.baseUrl = url\n",
    "        r = s.get(url, headers = headers)\n",
    "        soup = bs(r.text, 'lxml')\n",
    "        self.urls += [tag['data-url'] for tag in soup.find_all('div', {\"data-domain\": \"i.imgur.com\"}) if tag['data-url'][-3:] in extensions]\n",
    "        self.urls += [tag['data-url'] for tag in soup.find_all('div', {\"data-domain\":\"i.redd.it\"})if tag['data-url'][-3:] in extensions]\n",
    "        self.urls += [tag['data-url'] for tag in soup.find_all('div', {\"data-domain\":\"cdnb.artstation.com\"})if tag['data-url'][-3:] in extensions]\n",
    "        if numPages > 1:\n",
    "            self.nextUrl = soup.find_all('span', {\"class\":\"next-button\"})[0].find_all('a')[0]['href']\n",
    "        else:\n",
    "            self.nextUrl='None'\n",
    "    def __next__(self):\n",
    "        temp_r = s.get(self.nextUrl, headers=headers)\n",
    "        soup = bs(temp_r.text, 'lxml')\n",
    "        self.urls += [tag['data-url'] for tag in soup.find_all('div', {\"data-domain\": \"i.imgur.com\"}) if tag['data-url'][-3:] in extensions]\n",
    "        self.urls += [tag['data-url'] for tag in soup.find_all('div', {\"data-domain\":\"i.redd.it\"})if tag['data-url'][-3:] in extensions]\n",
    "        self.urls += [tag['data-url'] for tag in soup.find_all('div', {\"data-domain\":\"cdnb.artstation.com\"})if tag['data-url'][-3:] in extensions]\n",
    "        self.nextUrl = soup.find_all('span', {\"class\":\"next-button\"})[0].find_all('a')[0]['href']\n",
    "\n",
    "    def __iter__(self):\n",
    "        return(self)"
   ]
  },
  {
   "cell_type": "code",
   "execution_count": 9,
   "metadata": {
    "collapsed": false
   },
   "outputs": [],
   "source": [
    "myurl = url = \"https://www.reddit.com/r/{}/top/?sort=top&t={}\".format(subreddit,timeFrame)\n",
    "myiterator = iter(subredditTopPostsGenerator(myurl))"
   ]
  },
  {
   "cell_type": "code",
   "execution_count": 4,
   "metadata": {
    "collapsed": true
   },
   "outputs": [],
   "source": [
    "def saveUrls(subreddit, urls):\n",
    "    print(\"Downloading wallpapers from \" \"r/\" + subreddit)\n",
    "    \n",
    "    if not os.path.exists('../figures/'+subreddit +'/' + timeFrame):\n",
    "        os.makedirs('../figures/'+subreddit + '/' + timeFrame)\n",
    "\n",
    "    for i in tqdm(range(len(urls))):\n",
    "        #print(\"Downloading...\"+subreddit+'/' + tempUrl[7:].replace('/', '_').strip('_'))\n",
    "        tempUrl = urls[i]\n",
    "        r = s.get(tempUrl, headers=headers, stream=True)\n",
    "        \n",
    "        if not os.path.exists('../figures/' + subreddit + '/' + timeFrame + '/' + tempUrl[7:].replace('/', '_').strip('_')):\n",
    "            with open('../figures/' + subreddit + '/' + timeFrame + '/' + tempUrl[7:].replace('/', '_').strip('_') , 'wb') as f:\n",
    "                for chunk in r.iter_content(chunk_size=1024): \n",
    "                    if chunk: # filter out keep-alive new chunks\n",
    "                        f.write(chunk)\n",
    "        else:\n",
    "            continue"
   ]
  },
  {
   "cell_type": "code",
   "execution_count": 5,
   "metadata": {
    "collapsed": true
   },
   "outputs": [],
   "source": [
    "if numPages > 1:\n",
    "    for i in range(numPages - 1):\n",
    "        next(myiterator)\n",
    "#print(myiterator.urls)"
   ]
  },
  {
   "cell_type": "code",
   "execution_count": 6,
   "metadata": {
    "collapsed": true
   },
   "outputs": [
    {
     "name": "stderr",
     "output_type": "stream",
     "text": [
      "\r",
      "  0%|          | 0/113 [00:00<?, ?it/s]"
     ]
    },
    {
     "name": "stdout",
     "output_type": "stream",
     "text": [
      "Downloading wallpapers from r/wallpapers\n"
     ]
    },
    {
     "name": "stderr",
     "output_type": "stream",
     "text": [
      "100%|██████████| 113/113 [00:35<00:00,  4.81it/s]\n"
     ]
    }
   ],
   "source": [
    "saveUrls(subreddit, myiterator.urls)"
   ]
  }
 ],
 "metadata": {
  "kernelspec": {
   "display_name": "Python 3",
   "language": "python",
   "name": "python3"
  },
  "language_info": {
   "codemirror_mode": {
    "name": "ipython",
    "version": 3
   },
   "file_extension": ".py",
   "mimetype": "text/x-python",
   "name": "python",
   "nbconvert_exporter": "python",
   "pygments_lexer": "ipython3",
   "version": "3.6.0"
  }
 },
 "nbformat": 4,
 "nbformat_minor": 2
}
