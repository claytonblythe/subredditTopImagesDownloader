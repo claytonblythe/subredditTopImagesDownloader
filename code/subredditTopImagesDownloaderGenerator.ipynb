{
 "cells": [
  {
   "cell_type": "code",
   "execution_count": 29,
   "metadata": {
    "collapsed": true
   },
   "outputs": [],
   "source": [
    "from bs4 import BeautifulSoup as bs\n",
    "import requests\n",
    "from tqdm import tqdm\n",
    "import os\n",
    "# Get a copy of the default headers that requests would use\n",
    "headers = {'User-Agent': 'Mozilla/5.0 (Macintosh; Intel Mac OS X 10_10_1) AppleWebKit/537.36 (KHTML, like Gecko) Chrome/39.0.2171.95 Safari/537.36'}\n",
    "subreddit = \"wallpapers\"\n",
    "url = \"https://www.reddit.com/r/\"+ subreddit + \"/top/?sort=top&t=all\"\n",
    "s = requests.session()\n",
    "r = s.get(url, headers = headers)\n",
    "soup = bs(r.text, 'lxml')\n",
    "extensions = ['png', 'jpg', 'jpeg','ifv2']"
   ]
  },
  {
   "cell_type": "code",
   "execution_count": 30,
   "metadata": {
    "collapsed": false
   },
   "outputs": [],
   "source": [
    "class subredditTopPostsGenerator:\n",
    "    def __init__(self, url):\n",
    "        self.urls = []\n",
    "        self.baseUrl = url\n",
    "        r = s.get(url, headers = headers)\n",
    "        soup = bs(r.text, 'lxml')\n",
    "        self.urls += [tag['data-url'] for tag in soup.find_all('div', {\"data-domain\": \"i.imgur.com\"}) if tag['data-url'][-3:] in extensions]\n",
    "        self.urls += [tag['data-url'] for tag in soup.find_all('div', {\"data-domain\":\"i.redd.it\"})if tag['data-url'][-3:] in extensions]\n",
    "        self.urls += [tag['data-url'] for tag in soup.find_all('div', {\"data-domain\":\"cdnb.artstation.com\"})if tag['data-url'][-3:] in extensions]\n",
    "        self.nextUrl = soup.find_all('span', {\"class\":\"next-button\"})[0].find_all('a')[0]['href']\n",
    "\n",
    "    def __next__(self):\n",
    "        temp_r = s.get(self.nextUrl, headers=headers)\n",
    "        soup = bs(temp_r.text, 'lxml')\n",
    "        self.urls += [tag['data-url'] for tag in soup.find_all('div', {\"data-domain\": \"i.imgur.com\"}) if tag['data-url'][-3:] in extensions]\n",
    "        self.urls += [tag['data-url'] for tag in soup.find_all('div', {\"data-domain\":\"i.redd.it\"})if tag['data-url'][-3:] in extensions]\n",
    "        self.urls += [tag['data-url'] for tag in soup.find_all('div', {\"data-domain\":\"cdnb.artstation.com\"})if tag['data-url'][-3:] in extensions]\n",
    "        self.nextUrl = soup.find_all('span', {\"class\":\"next-button\"})[0].find_all('a')[0]['href']\n",
    "\n",
    "    def __iter__(self):\n",
    "        return(self)"
   ]
  },
  {
   "cell_type": "code",
   "execution_count": 31,
   "metadata": {
    "collapsed": false
   },
   "outputs": [],
   "source": [
    "myurl = 'https://www.reddit.com/r/' + \"Art\" + \"/top/?sort=top&t=all\"\n",
    "myiterator = iter(subredditTopPostsGenerator(myurl))"
   ]
  },
  {
   "cell_type": "code",
   "execution_count": 32,
   "metadata": {
    "collapsed": true
   },
   "outputs": [],
   "source": [
    "def saveUrls(subreddit, urls):\n",
    "    if not os.path.exists('../figures/'+subreddit):\n",
    "        os.makedirs('../figures/'+subreddit)\n",
    "\n",
    "    for i in tqdm(range(len(urls))):\n",
    "        #print(\"Downloading...\"+subreddit+'/' + tempUrl[7:].replace('/', '_').strip('_'))\n",
    "        tempUrl = urls[i]\n",
    "        r = s.get(tempUrl, headers=headers, stream=True)\n",
    "        with open('../figures/'+subreddit +'/'+ tempUrl[7:].replace('/', '_').strip('_') , 'wb') as f:\n",
    "            for chunk in r.iter_content(chunk_size=1024): \n",
    "                if chunk: # filter out keep-alive new chunks\n",
    "                    f.write(chunk)"
   ]
  },
  {
   "cell_type": "code",
   "execution_count": 33,
   "metadata": {
    "collapsed": true
   },
   "outputs": [],
   "source": [
    "for i in range(5):\n",
    "    next(myiterator)\n",
    "#print(myiterator.urls)"
   ]
  },
  {
   "cell_type": "code",
   "execution_count": 34,
   "metadata": {
    "collapsed": false,
    "scrolled": false
   },
   "outputs": [
    {
     "name": "stderr",
     "output_type": "stream",
     "text": [
      "\n",
      "  0%|          | 0/114 [00:00<?, ?it/s]\u001b[A\n",
      "  1%|          | 1/114 [00:01<02:44,  1.46s/it]\u001b[A\n",
      "  2%|▏         | 2/114 [00:02<02:14,  1.20s/it]\u001b[A\n",
      "  3%|▎         | 3/114 [00:02<02:01,  1.10s/it]\u001b[A\n",
      "  4%|▎         | 4/114 [00:03<01:34,  1.16it/s]\u001b[A\n",
      "  4%|▍         | 5/114 [00:03<01:18,  1.38it/s]\u001b[A\n",
      "  5%|▌         | 6/114 [00:04<01:17,  1.40it/s]\u001b[A\n",
      "  6%|▌         | 7/114 [00:04<01:05,  1.64it/s]\u001b[A\n",
      "  8%|▊         | 9/114 [00:04<00:47,  2.20it/s]\u001b[A\n",
      "  9%|▉         | 10/114 [00:06<01:32,  1.13it/s]\u001b[A\n",
      " 10%|▉         | 11/114 [00:08<02:04,  1.21s/it]\u001b[A\n",
      " 11%|█         | 12/114 [00:08<01:29,  1.14it/s]\u001b[A\n",
      " 12%|█▏        | 14/114 [00:09<01:04,  1.55it/s]\u001b[A\n",
      " 14%|█▍        | 16/114 [00:09<00:48,  2.00it/s]\u001b[A\n",
      "100%|██████████| 114/114 [00:55<00:00,  2.06it/s]\n"
     ]
    }
   ],
   "source": [
    "saveUrls(subreddit, myiterator.urls)"
   ]
  }
 ],
 "metadata": {
  "kernelspec": {
   "display_name": "Python 3",
   "language": "python",
   "name": "python3"
  },
  "language_info": {
   "codemirror_mode": {
    "name": "ipython",
    "version": 3
   },
   "file_extension": ".py",
   "mimetype": "text/x-python",
   "name": "python",
   "nbconvert_exporter": "python",
   "pygments_lexer": "ipython3",
   "version": "3.6.0"
  }
 },
 "nbformat": 4,
 "nbformat_minor": 2
}
