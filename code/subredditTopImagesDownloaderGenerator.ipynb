{
 "cells": [
  {
   "cell_type": "code",
   "execution_count": null,
   "metadata": {
    "collapsed": true
   },
   "outputs": [],
   "source": [
    "from bs4 import BeautifulSoup as bs\n",
    "import requests\n",
    "from tqdm import tqdm\n",
    "import os\n",
    "# Get a copy of the default headers that requests would use\n",
    "headers = {'User-Agent': 'Mozilla/5.0 (Macintosh; Intel Mac OS X 10_10_1) AppleWebKit/537.36 (KHTML, like Gecko) Chrome/39.0.2171.95 Safari/537.36'}\n",
    "subreddit = \"wallpapers\"\n",
    "url = \"https://www.reddit.com/r/\"+ subreddit + \"/top/?sort=top&t=all\"\n",
    "s = requests.session()\n",
    "r = s.get(url, headers = headers)\n",
    "soup = bs(r.text, 'lxml')\n",
    "extensions = ['png', 'jpg', 'jpeg','ifv2']"
   ]
  },
  {
   "cell_type": "code",
   "execution_count": null,
   "metadata": {
    "collapsed": false
   },
   "outputs": [],
   "source": [
    "class subredditTopPostsGenerator:\n",
    "    def __init__(self, url):\n",
    "        self.urls = []\n",
    "        self.baseUrl = url\n",
    "        r = s.get(url, headers = headers)\n",
    "        soup = bs(r.text, 'lxml')\n",
    "        self.urls += [tag['data-url'] for tag in soup.find_all('div', {\"data-domain\": \"i.imgur.com\"}) if tag['data-url'][-3:] in extensions]\n",
    "        self.urls += [tag['data-url'] for tag in soup.find_all('div', {\"data-domain\":\"i.redd.it\"})if tag['data-url'][-3:] in extensions]\n",
    "        self.urls += [tag['data-url'] for tag in soup.find_all('div', {\"data-domain\":\"cdnb.artstation.com\"})if tag['data-url'][-3:] in extensions]\n",
    "        self.nextUrl = soup.find_all('span', {\"class\":\"next-button\"})[0].find_all('a')[0]['href']\n",
    "\n",
    "    def __next__(self):\n",
    "        temp_r = s.get(self.nextUrl, headers=headers)\n",
    "        soup = bs(temp_r.text, 'lxml')\n",
    "        self.urls += [tag['data-url'] for tag in soup.find_all('div', {\"data-domain\": \"i.imgur.com\"}) if tag['data-url'][-3:] in extensions]\n",
    "        self.urls += [tag['data-url'] for tag in soup.find_all('div', {\"data-domain\":\"i.redd.it\"})if tag['data-url'][-3:] in extensions]\n",
    "        self.urls += [tag['data-url'] for tag in soup.find_all('div', {\"data-domain\":\"cdnb.artstation.com\"})if tag['data-url'][-3:] in extensions]\n",
    "        self.nextUrl = soup.find_all('span', {\"class\":\"next-button\"})[0].find_all('a')[0]['href']\n",
    "\n",
    "    def __iter__(self):\n",
    "        return(self)"
   ]
  },
  {
   "cell_type": "code",
   "execution_count": null,
   "metadata": {
    "collapsed": false
   },
   "outputs": [],
   "source": [
    "myurl = 'https://www.reddit.com/r/' + subreddit + \"/top/?sort=top&t=all\"\n",
    "myiterator = iter(subredditTopPostsGenerator(myurl))"
   ]
  },
  {
   "cell_type": "code",
   "execution_count": null,
   "metadata": {
    "collapsed": true
   },
   "outputs": [],
   "source": [
    "def saveUrls(subreddit, urls):\n",
    "    print(\"Downloading wallpapers from \" \"r/\" + subreddit)\n",
    "    \n",
    "    if not os.path.exists('../figures/'+subreddit):\n",
    "        os.makedirs('../figures/'+subreddit)\n",
    "\n",
    "    for i in tqdm(range(len(urls))):\n",
    "        #print(\"Downloading...\"+subreddit+'/' + tempUrl[7:].replace('/', '_').strip('_'))\n",
    "        tempUrl = urls[i]\n",
    "        r = s.get(tempUrl, headers=headers, stream=True)\n",
    "        \n",
    "        if not os.path.exists('../figures/'+subreddit +'/'+ tempUrl[7:].replace('/', '_').strip('_') ):\n",
    "            with open('../figures/'+subreddit +'/'+ tempUrl[7:].replace('/', '_').strip('_') , 'wb') as f:\n",
    "                for chunk in r.iter_content(chunk_size=1024): \n",
    "                    if chunk: # filter out keep-alive new chunks\n",
    "                        f.write(chunk)\n",
    "        else:\n",
    "            continue"
   ]
  },
  {
   "cell_type": "code",
   "execution_count": null,
   "metadata": {
    "collapsed": true
   },
   "outputs": [],
   "source": [
    "for i in range(5):\n",
    "    next(myiterator)\n",
    "#print(myiterator.urls)"
   ]
  },
  {
   "cell_type": "code",
   "execution_count": null,
   "metadata": {
    "collapsed": false,
    "scrolled": false
   },
   "outputs": [],
   "source": [
    "saveUrls(subreddit, myiterator.urls)"
   ]
  },
  {
   "cell_type": "code",
   "execution_count": null,
   "metadata": {
    "collapsed": true
   },
   "outputs": [],
   "source": []
  },
  {
   "cell_type": "code",
   "execution_count": null,
   "metadata": {
    "collapsed": true
   },
   "outputs": [],
   "source": []
  }
 ],
 "metadata": {
  "kernelspec": {
   "display_name": "Python 3",
   "language": "python",
   "name": "python3"
  },
  "language_info": {
   "codemirror_mode": {
    "name": "ipython",
    "version": 3
   },
   "file_extension": ".py",
   "mimetype": "text/x-python",
   "name": "python",
   "nbconvert_exporter": "python",
   "pygments_lexer": "ipython3",
   "version": "3.6.0"
  }
 },
 "nbformat": 4,
 "nbformat_minor": 2
}
