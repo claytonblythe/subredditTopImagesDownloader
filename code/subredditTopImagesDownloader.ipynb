{
 "cells": [
  {
   "cell_type": "code",
   "execution_count": 91,
   "metadata": {
    "collapsed": true
   },
   "outputs": [],
   "source": [
    "from bs4 import BeautifulSoup as bs\n",
    "import requests\n",
    "from tqdm import tqdm\n",
    "import os\n",
    "# Get a copy of the default headers that requests would use\n",
    "headers = {'User-Agent': 'Mozilla/5.0 (Macintosh; Intel Mac OS X 10_10_1) AppleWebKit/537.36 (KHTML, like Gecko) Chrome/39.0.2171.95 Safari/537.36'}\n"
   ]
  },
  {
   "cell_type": "code",
   "execution_count": 173,
   "metadata": {
    "collapsed": true
   },
   "outputs": [],
   "source": [
    "subreddit = \"beachgirls\"\n",
    "url = \"https://www.reddit.com/r/\"+ subreddit + \"/top/?sort=top&t=all\""
   ]
  },
  {
   "cell_type": "code",
   "execution_count": 174,
   "metadata": {
    "collapsed": false
   },
   "outputs": [],
   "source": [
    "s = requests.session()\n",
    "r = s.get(url, headers = headers)\n",
    "soup = bs(r.text, 'lxml')"
   ]
  },
  {
   "cell_type": "code",
   "execution_count": 175,
   "metadata": {
    "collapsed": false
   },
   "outputs": [],
   "source": [
    "extensions = ['png', 'jpg', 'ifv2']\n",
    "urls = [tag['data-url'] for tag in soup.find_all('div', {\"data-domain\": \"i.imgur.com\"}) if tag['data-url'][-3:] in extensions]\n",
    "urls += [tag['data-url'] for tag in soup.find_all('div', {\"data-domain\":\"i.redd.it\"})if tag['data-url'][-3:] in extensions]\n",
    "urls += [tag['data-url'] for tag in soup.find_all('div', {\"data-domain\":\"cdnb.artstation.com\"})if tag['data-url'][-3:] in extensions]\n",
    "\n"
   ]
  },
  {
   "cell_type": "code",
   "execution_count": 176,
   "metadata": {
    "collapsed": true
   },
   "outputs": [],
   "source": [
    "#print(urls)"
   ]
  },
  {
   "cell_type": "code",
   "execution_count": 177,
   "metadata": {
    "collapsed": false
   },
   "outputs": [],
   "source": [
    "if not os.path.exists('../figures/'+subreddit):\n",
    "    os.makedirs('../figures/'+subreddit)\n",
    "\n",
    "for tempUrl in urls:\n",
    "    print(\"Downloading...\"+subreddit+'/' + tempUrl[7:].replace('/', '_').strip('_'))\n",
    "    r = s.get(tempUrl, headers=headers, stream=True)\n",
    "    with open('../figures/'+subreddit +'/'+ tempUrl[7:].replace('/', '_').strip('_') , 'wb') as f:\n",
    "        for chunk in r.iter_content(chunk_size=1024): \n",
    "            if chunk: # filter out keep-alive new chunks\n",
    "                f.write(chunk)\n",
    "   "
   ]
  },
  {
   "cell_type": "code",
   "execution_count": null,
   "metadata": {
    "collapsed": true
   },
   "outputs": [],
   "source": []
  },
  {
   "cell_type": "code",
   "execution_count": null,
   "metadata": {
    "collapsed": true
   },
   "outputs": [],
   "source": []
  },
  {
   "cell_type": "code",
   "execution_count": null,
   "metadata": {
    "collapsed": true
   },
   "outputs": [],
   "source": []
  },
  {
   "cell_type": "code",
   "execution_count": null,
   "metadata": {
    "collapsed": true
   },
   "outputs": [],
   "source": []
  }
 ],
 "metadata": {
  "kernelspec": {
   "display_name": "Python 3",
   "language": "python",
   "name": "python3"
  },
  "language_info": {
   "codemirror_mode": {
    "name": "ipython",
    "version": 3
   },
   "file_extension": ".py",
   "mimetype": "text/x-python",
   "name": "python",
   "nbconvert_exporter": "python",
   "pygments_lexer": "ipython3",
   "version": "3.6.0"
  }
 },
 "nbformat": 4,
 "nbformat_minor": 2
}
