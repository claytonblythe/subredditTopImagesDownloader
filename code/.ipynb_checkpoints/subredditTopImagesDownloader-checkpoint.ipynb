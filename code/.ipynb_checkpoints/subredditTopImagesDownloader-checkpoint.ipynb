{
 "cells": [
  {
   "cell_type": "code",
   "execution_count": 63,
   "metadata": {
    "collapsed": true
   },
   "outputs": [],
   "source": [
    "from bs4 import BeautifulSoup as bs\n",
    "import requests\n",
    "from tqdm import tqdm\n",
    "import os\n",
    "# Get a copy of the default headers that requests would use\n",
    "headers = {'User-Agent': 'Mozilla/5.0 (Macintosh; Intel Mac OS X 10_10_1) AppleWebKit/537.36 (KHTML, like Gecko) Chrome/39.0.2171.95 Safari/537.36'}\n"
   ]
  },
  {
   "cell_type": "code",
   "execution_count": 64,
   "metadata": {
    "collapsed": true
   },
   "outputs": [],
   "source": [
    "subreddit = \"EarthPorn\"\n",
    "url = \"https://www.reddit.com/r/\"+ subreddit + \"/top/?sort=top&t=all\""
   ]
  },
  {
   "cell_type": "code",
   "execution_count": 65,
   "metadata": {
    "collapsed": false
   },
   "outputs": [],
   "source": [
    "s = requests.session()\n",
    "r = s.get(url, headers = headers)\n",
    "soup = bs(r.text, 'lxml')"
   ]
  },
  {
   "cell_type": "code",
   "execution_count": 66,
   "metadata": {
    "collapsed": false
   },
   "outputs": [],
   "source": [
    "extensions = ['png', 'jpg', 'ifv2']\n",
    "urls = [tag['data-url'] for tag in soup.find_all('div', {\"data-domain\": \"i.imgur.com\"}) if tag['data-url'][-3:] in extensions]\n",
    "urls += [tag['data-url'] for tag in soup.find_all('div', {\"data-domain\":\"i.redd.it\"})if tag['data-url'][-3:] in extensions]\n",
    "urls += [tag['data-url'] for tag in soup.find_all('div', {\"data-domain\":\"cdnb.artstation.com\"})if tag['data-url'][-3:] in extensions]\n",
    "\n"
   ]
  },
  {
   "cell_type": "code",
   "execution_count": 67,
   "metadata": {
    "collapsed": true
   },
   "outputs": [
    {
     "name": "stdout",
     "output_type": "stream",
     "text": [
      "['http://i.imgur.com/jgh1fin.jpg', 'http://i.imgur.com/SIk9LkV.jpg', 'http://i.imgur.com/gExIVT4.jpg', 'http://i.imgur.com/6aJjzIK.jpg', 'http://i.imgur.com/DHbmAj4.jpg', 'http://i.imgur.com/VMzJUS0.jpg', 'https://i.redd.it/mfqm1x49akgy.jpg', 'https://i.redd.it/tp5cy3qorzwx.jpg', 'https://i.redd.it/d9ejxzs27faz.jpg', 'https://i.redd.it/i585l9uh20ly.jpg', 'https://i.redd.it/lghllrc86vdy.jpg', 'https://i.redd.it/0ydtax5r3wky.jpg', 'https://i.redd.it/bhaf0iq68xry.jpg', 'https://i.redd.it/9gcqpk6rse3z.jpg', 'https://i.redd.it/n3vrrgf8jypy.jpg', 'https://i.redd.it/36iezwgkjj7y.jpg']\n"
     ]
    }
   ],
   "source": [
    "#print(urls)"
   ]
  },
  {
   "cell_type": "code",
   "execution_count": 68,
   "metadata": {
    "collapsed": true
   },
   "outputs": [
    {
     "name": "stdout",
     "output_type": "stream",
     "text": [
      "Downloading...i.imgur.com_jgh1fin.jpg\n",
      "Downloading...i.imgur.com_SIk9LkV.jpg\n",
      "Downloading...i.imgur.com_gExIVT4.jpg\n",
      "Downloading...i.imgur.com_6aJjzIK.jpg\n",
      "Downloading...i.imgur.com_DHbmAj4.jpg\n",
      "Downloading...i.imgur.com_VMzJUS0.jpg\n",
      "Downloading...i.redd.it_mfqm1x49akgy.jpg\n",
      "Downloading...i.redd.it_tp5cy3qorzwx.jpg\n",
      "Downloading...i.redd.it_d9ejxzs27faz.jpg\n",
      "Downloading...i.redd.it_i585l9uh20ly.jpg\n",
      "Downloading...i.redd.it_lghllrc86vdy.jpg\n",
      "Downloading...i.redd.it_0ydtax5r3wky.jpg\n",
      "Downloading...i.redd.it_bhaf0iq68xry.jpg\n",
      "Downloading...i.redd.it_9gcqpk6rse3z.jpg\n",
      "Downloading...i.redd.it_n3vrrgf8jypy.jpg\n",
      "Downloading...i.redd.it_36iezwgkjj7y.jpg\n"
     ]
    }
   ],
   "source": [
    "if not os.path.exists('../figures/'+subreddit):\n",
    "    os.makedirs('../figures/'+subreddit)\n",
    "\n",
    "for tempUrl in urls:\n",
    "    print(\"Downloading...\" + tempUrl[7:].replace('/', '_').strip('_'))\n",
    "    r = s.get(tempUrl, headers=headers, stream=True)\n",
    "    with open('../figures/'+subreddit +'/'+ tempUrl[7:].replace('/', '_').strip('_') , 'wb') as f:\n",
    "        for chunk in r.iter_content(chunk_size=1024): \n",
    "            if chunk: # filter out keep-alive new chunks\n",
    "                f.write(chunk)\n",
    "   "
   ]
  },
  {
   "cell_type": "code",
   "execution_count": null,
   "metadata": {
    "collapsed": true
   },
   "outputs": [],
   "source": []
  },
  {
   "cell_type": "code",
   "execution_count": null,
   "metadata": {
    "collapsed": true
   },
   "outputs": [],
   "source": []
  },
  {
   "cell_type": "code",
   "execution_count": null,
   "metadata": {
    "collapsed": true
   },
   "outputs": [],
   "source": []
  }
 ],
 "metadata": {
  "kernelspec": {
   "display_name": "Python 3",
   "language": "python",
   "name": "python3"
  },
  "language_info": {
   "codemirror_mode": {
    "name": "ipython",
    "version": 3
   },
   "file_extension": ".py",
   "mimetype": "text/x-python",
   "name": "python",
   "nbconvert_exporter": "python",
   "pygments_lexer": "ipython3",
   "version": "3.6.0"
  }
 },
 "nbformat": 4,
 "nbformat_minor": 2
}
