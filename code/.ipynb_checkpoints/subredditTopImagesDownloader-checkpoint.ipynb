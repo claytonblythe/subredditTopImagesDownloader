{
 "cells": [
  {
   "cell_type": "code",
   "execution_count": 25,
   "metadata": {
    "collapsed": true
   },
   "outputs": [],
   "source": [
    "from bs4 import BeautifulSoup as bs\n",
    "import requests\n",
    "from tqdm import tqdm\n",
    "# Get a copy of the default headers that requests would use\n",
    "\n",
    "headers = {'User-Agent': 'Mozilla/5.0 (Macintosh; Intel Mac OS X 10_10_1) AppleWebKit/537.36 (KHTML, like Gecko) Chrome/39.0.2171.95 Safari/537.36'}\n",
    "\n"
   ]
  },
  {
   "cell_type": "code",
   "execution_count": 26,
   "metadata": {
    "collapsed": true
   },
   "outputs": [],
   "source": [
    "subreddit = \"Art\"\n",
    "url = \"https://www.reddit.com/r/\"+ subreddit + \"/top/?sort=top&t=all\""
   ]
  },
  {
   "cell_type": "code",
   "execution_count": 27,
   "metadata": {
    "collapsed": false
   },
   "outputs": [],
   "source": [
    "s = requests.session()\n",
    "r = s.get(url, headers = headers)\n",
    "soup = bs(r.text, 'lxml')"
   ]
  },
  {
   "cell_type": "code",
   "execution_count": 28,
   "metadata": {
    "collapsed": false
   },
   "outputs": [],
   "source": [
    "extensions = ['png', 'jpg', 'ifv2']\n",
    "urls = [tag['data-url'] for tag in soup.find_all('div', {\"data-domain\": \"i.imgur.com\"}) if tag['data-url'][-3:] in extensions]\n",
    "urls += [tag['data-url'] for tag in soup.find_all('div', {\"data-domain\":\"i.redd.it\"})if tag['data-url'][-3:] in extensions]\n",
    "urls += [tag['data-url'] for tag in soup.find_all('div', {\"data-domain\":\"cdnb.artstation.com\"})if tag['data-url'][-3:] in extensions]\n",
    "\n"
   ]
  },
  {
   "cell_type": "code",
   "execution_count": 29,
   "metadata": {
    "collapsed": false
   },
   "outputs": [
    {
     "name": "stdout",
     "output_type": "stream",
     "text": [
      "['http://i.imgur.com/MOrF2Qy.jpg', 'http://i.imgur.com/FDppI1V.jpg', 'https://i.imgur.com/8UXNepY.jpg', 'http://i.imgur.com/iB6RH3W.jpg', 'http://i.imgur.com/8VAmT9v.jpg', 'http://i.imgur.com/jN3wvje.jpg', 'https://i.redd.it/316mizbuinzy.jpg', 'https://i.redd.it/o4oku48qk9py.png', 'https://i.redd.it/5ob66o4rk81z.jpg', 'https://i.redd.it/sp7sffh2hl6z.jpg', 'https://i.redd.it/jasnbiyat3vy.png', 'https://i.redd.it/uyxiy1rapa2z.jpg', 'https://i.redd.it/z8ex9psyz22z.jpg', 'https://i.redd.it/73djooyg6e4z.jpg', 'https://i.redd.it/omk9f9rsl5az.jpg', 'https://i.redd.it/ul56pycpo9jy.jpg', 'https://i.redd.it/pbnb696xzrry.jpg', 'https://cdnb.artstation.com/p/assets/images/images/003/462/039/large/alena-aenami-over-the-city1k.jpg', 'https://cdnb.artstation.com/p/assets/images/images/005/893/455/large/jakub-rozalski-stranger-on-the-strange-land.jpg']\n"
     ]
    }
   ],
   "source": [
    "print(urls)"
   ]
  },
  {
   "cell_type": "code",
   "execution_count": 30,
   "metadata": {
    "collapsed": true
   },
   "outputs": [
    {
     "name": "stderr",
     "output_type": "stream",
     "text": [
      "  5%|▌         | 1/19 [00:00<00:01,  9.60it/s]"
     ]
    },
    {
     "name": "stdout",
     "output_type": "stream",
     "text": [
      "Downloading...http://i.imgur.com/MOrF2Qy.jpg\n",
      "Downloading...http://i.imgur.com/FDppI1V.jpg\n",
      "Downloading...https://i.imgur.com/8UXNepY.jpg\n"
     ]
    },
    {
     "name": "stderr",
     "output_type": "stream",
     "text": [
      " 26%|██▋       | 5/19 [00:00<00:01, 12.05it/s]"
     ]
    },
    {
     "name": "stdout",
     "output_type": "stream",
     "text": [
      "Downloading...http://i.imgur.com/iB6RH3W.jpg\n",
      "Downloading...http://i.imgur.com/8VAmT9v.jpg\n",
      "Downloading...http://i.imgur.com/jN3wvje.jpg\n",
      "Downloading...https://i.redd.it/316mizbuinzy.jpg\n"
     ]
    },
    {
     "name": "stderr",
     "output_type": "stream",
     "text": [
      "\r",
      " 37%|███▋      | 7/19 [00:00<00:00, 12.43it/s]"
     ]
    },
    {
     "name": "stdout",
     "output_type": "stream",
     "text": [
      "Downloading...https://i.redd.it/o4oku48qk9py.png\n",
      "Downloading...https://i.redd.it/5ob66o4rk81z.jpg\n"
     ]
    },
    {
     "name": "stderr",
     "output_type": "stream",
     "text": [
      "\r",
      " 47%|████▋     | 9/19 [00:00<00:00, 10.90it/s]"
     ]
    },
    {
     "name": "stdout",
     "output_type": "stream",
     "text": [
      "Downloading...https://i.redd.it/sp7sffh2hl6z.jpg\n",
      "Downloading...https://i.redd.it/jasnbiyat3vy.png\n"
     ]
    },
    {
     "name": "stderr",
     "output_type": "stream",
     "text": [
      " 63%|██████▎   | 12/19 [00:01<00:00,  9.07it/s]"
     ]
    },
    {
     "name": "stdout",
     "output_type": "stream",
     "text": [
      "Downloading...https://i.redd.it/uyxiy1rapa2z.jpg\n",
      "Downloading...https://i.redd.it/z8ex9psyz22z.jpg\n"
     ]
    },
    {
     "name": "stderr",
     "output_type": "stream",
     "text": [
      " 74%|███████▎  | 14/19 [00:01<00:00,  8.69it/s]"
     ]
    },
    {
     "name": "stdout",
     "output_type": "stream",
     "text": [
      "Downloading...https://i.redd.it/73djooyg6e4z.jpg\n",
      "Downloading...https://i.redd.it/omk9f9rsl5az.jpg\n"
     ]
    },
    {
     "name": "stderr",
     "output_type": "stream",
     "text": [
      "\r",
      " 84%|████████▍ | 16/19 [00:01<00:00,  8.93it/s]"
     ]
    },
    {
     "name": "stdout",
     "output_type": "stream",
     "text": [
      "Downloading...https://i.redd.it/ul56pycpo9jy.jpg\n",
      "Downloading...https://i.redd.it/pbnb696xzrry.jpg\n"
     ]
    },
    {
     "name": "stderr",
     "output_type": "stream",
     "text": [
      "\r",
      " 89%|████████▉ | 17/19 [00:01<00:00,  8.26it/s]"
     ]
    },
    {
     "name": "stdout",
     "output_type": "stream",
     "text": [
      "Downloading...https://cdnb.artstation.com/p/assets/images/images/003/462/039/large/alena-aenami-over-the-city1k.jpg\n"
     ]
    },
    {
     "name": "stderr",
     "output_type": "stream",
     "text": [
      "\r",
      " 95%|█████████▍| 18/19 [00:02<00:00,  5.41it/s]"
     ]
    },
    {
     "name": "stdout",
     "output_type": "stream",
     "text": [
      "Downloading...https://cdnb.artstation.com/p/assets/images/images/005/893/455/large/jakub-rozalski-stranger-on-the-strange-land.jpg\n"
     ]
    },
    {
     "name": "stderr",
     "output_type": "stream",
     "text": [
      "100%|██████████| 19/19 [00:02<00:00,  3.56it/s]\n"
     ]
    }
   ],
   "source": [
    "for tempUrl in urls:\n",
    "    try:\n",
    "        print(\"Downloading...\" + tempUrl)\n",
    "        r = s.get(tempUrl, headers=headers, stream=True)\n",
    "        with open('../figures/'+ str(tempUrl) , 'wb') as f:\n",
    "            for chunk in r.iter_content(chunk_size=1024): \n",
    "                if chunk: # filter out keep-alive new chunks\n",
    "                    f.write(chunk)\n",
    "                #f.flush() commented by recommendation from J.F.Sebastian\n",
    "    except:\n",
    "        continue"
   ]
  },
  {
   "cell_type": "code",
   "execution_count": null,
   "metadata": {
    "collapsed": true
   },
   "outputs": [],
   "source": []
  },
  {
   "cell_type": "code",
   "execution_count": null,
   "metadata": {
    "collapsed": true
   },
   "outputs": [],
   "source": []
  },
  {
   "cell_type": "code",
   "execution_count": null,
   "metadata": {
    "collapsed": true
   },
   "outputs": [],
   "source": []
  }
 ],
 "metadata": {
  "kernelspec": {
   "display_name": "Python 3",
   "language": "python",
   "name": "python3"
  },
  "language_info": {
   "codemirror_mode": {
    "name": "ipython",
    "version": 3
   },
   "file_extension": ".py",
   "mimetype": "text/x-python",
   "name": "python",
   "nbconvert_exporter": "python",
   "pygments_lexer": "ipython3",
   "version": "3.6.0"
  }
 },
 "nbformat": 4,
 "nbformat_minor": 2
}
